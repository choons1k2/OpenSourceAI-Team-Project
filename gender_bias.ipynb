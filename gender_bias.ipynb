{
  "nbformat": 4,
  "nbformat_minor": 0,
  "metadata": {
    "colab": {
      "provenance": [],
      "authorship_tag": "ABX9TyN14CQjU7aZkMJFLpnmzP36",
      "include_colab_link": true
    },
    "kernelspec": {
      "name": "python3",
      "display_name": "Python 3"
    },
    "language_info": {
      "name": "python"
    }
  },
  "cells": [
    {
      "cell_type": "markdown",
      "metadata": {
        "id": "view-in-github",
        "colab_type": "text"
      },
      "source": [
        "<a href=\"https://colab.research.google.com/github/choons1k2/OpenSourceAI-Team-Project/blob/main/gender_bias.ipynb\" target=\"_parent\"><img src=\"https://colab.research.google.com/assets/colab-badge.svg\" alt=\"Open In Colab\"/></a>"
      ]
    },
    {
      "cell_type": "code",
      "execution_count": 68,
      "metadata": {
        "colab": {
          "base_uri": "https://localhost:8080/"
        },
        "id": "pvL750sg6wDV",
        "outputId": "b24212bf-8fd8-49c3-c07c-3618c9eb8bc1"
      },
      "outputs": [
        {
          "output_type": "stream",
          "name": "stdout",
          "text": [
            "Drive already mounted at /content/drive; to attempt to forcibly remount, call drive.mount(\"/content/drive\", force_remount=True).\n"
          ]
        }
      ],
      "source": [
        "from google.colab import drive\n",
        "drive.mount('/content/drive')\n",
        "f_path = '/content/heart.csv'\n",
        "\n",
        "import pandas as pd\n",
        "heart = pd.read_csv(f_path)\n",
        "\n",
        "\n",
        "#OneHotEncoding\n",
        "heart = pd.get_dummies(heart)\n",
        "\n"
      ]
    },
    {
      "cell_type": "code",
      "source": [
        "\n",
        "\n",
        "for i in range(20):\n",
        "\n",
        "  Male = heart[ heart['Sex_M'] == 1 ]\n",
        "  Female = heart[ heart['Sex_M'] == 0 ]\n",
        "  Male = Male.sample(frac=0.266)\n",
        "  \n",
        "\n",
        "\n",
        "  heartTest = pd.concat([Male, Female])\n",
        "  print(f\"{i+1}. 남성 표본: {len(Male)}명, 여성 표본: {len(Female)}명\")\n",
        "  Positive = heartTest[ heartTest['HeartDisease'] == 1 ]\n",
        "  Negative = heartTest[ heartTest['HeartDisease'] == 0 ]\n",
        "\n",
        "  mPositive = len(Positive[Positive['Sex_M'] == 1])\n",
        "  fPositive = len(Positive[Positive['Sex_M'] == 0])\n",
        "\n",
        "  mNegative = len(Negative[Negative['Sex_M'] == 1])\n",
        "  fNegative = len(Negative[Negative['Sex_M'] == 0])\n",
        "\n",
        "  mRate = mPositive / (mPositive + mNegative)\n",
        "  fRate = fPositive / (fPositive + fNegative)\n",
        "  \n",
        "  print(f\"남성 양성률: {mRate}\")\n",
        "  print(f\"여성 양성률: {fRate}\\n\")"
      ],
      "metadata": {
        "id": "dBwXWNVb78al",
        "colab": {
          "base_uri": "https://localhost:8080/"
        },
        "outputId": "6dc0990b-6aa5-4758-9936-565356642956"
      },
      "execution_count": 73,
      "outputs": [
        {
          "output_type": "stream",
          "name": "stdout",
          "text": [
            "1. 남성 표본: 193명, 여성 표본: 193명\n",
            "남성 양성률: 0.6010362694300518\n",
            "여성 양성률: 0.25906735751295334\n",
            "\n",
            "2. 남성 표본: 193명, 여성 표본: 193명\n",
            "남성 양성률: 0.6321243523316062\n",
            "여성 양성률: 0.25906735751295334\n",
            "\n",
            "3. 남성 표본: 193명, 여성 표본: 193명\n",
            "남성 양성률: 0.6683937823834197\n",
            "여성 양성률: 0.25906735751295334\n",
            "\n",
            "4. 남성 표본: 193명, 여성 표본: 193명\n",
            "남성 양성률: 0.6321243523316062\n",
            "여성 양성률: 0.25906735751295334\n",
            "\n",
            "5. 남성 표본: 193명, 여성 표본: 193명\n",
            "남성 양성률: 0.6113989637305699\n",
            "여성 양성률: 0.25906735751295334\n",
            "\n",
            "6. 남성 표본: 193명, 여성 표본: 193명\n",
            "남성 양성률: 0.6217616580310881\n",
            "여성 양성률: 0.25906735751295334\n",
            "\n",
            "7. 남성 표본: 193명, 여성 표본: 193명\n",
            "남성 양성률: 0.5906735751295337\n",
            "여성 양성률: 0.25906735751295334\n",
            "\n",
            "8. 남성 표본: 193명, 여성 표본: 193명\n",
            "남성 양성률: 0.616580310880829\n",
            "여성 양성률: 0.25906735751295334\n",
            "\n",
            "9. 남성 표본: 193명, 여성 표본: 193명\n",
            "남성 양성률: 0.6580310880829016\n",
            "여성 양성률: 0.25906735751295334\n",
            "\n",
            "10. 남성 표본: 193명, 여성 표본: 193명\n",
            "남성 양성률: 0.5906735751295337\n",
            "여성 양성률: 0.25906735751295334\n",
            "\n",
            "11. 남성 표본: 193명, 여성 표본: 193명\n",
            "남성 양성률: 0.5906735751295337\n",
            "여성 양성률: 0.25906735751295334\n",
            "\n",
            "12. 남성 표본: 193명, 여성 표본: 193명\n",
            "남성 양성률: 0.6113989637305699\n",
            "여성 양성률: 0.25906735751295334\n",
            "\n",
            "13. 남성 표본: 193명, 여성 표본: 193명\n",
            "남성 양성률: 0.6062176165803109\n",
            "여성 양성률: 0.25906735751295334\n",
            "\n",
            "14. 남성 표본: 193명, 여성 표본: 193명\n",
            "남성 양성률: 0.6476683937823834\n",
            "여성 양성률: 0.25906735751295334\n",
            "\n",
            "15. 남성 표본: 193명, 여성 표본: 193명\n",
            "남성 양성률: 0.6632124352331606\n",
            "여성 양성률: 0.25906735751295334\n",
            "\n",
            "16. 남성 표본: 193명, 여성 표본: 193명\n",
            "남성 양성률: 0.6580310880829016\n",
            "여성 양성률: 0.25906735751295334\n",
            "\n",
            "17. 남성 표본: 193명, 여성 표본: 193명\n",
            "남성 양성률: 0.6632124352331606\n",
            "여성 양성률: 0.25906735751295334\n",
            "\n",
            "18. 남성 표본: 193명, 여성 표본: 193명\n",
            "남성 양성률: 0.6062176165803109\n",
            "여성 양성률: 0.25906735751295334\n",
            "\n",
            "19. 남성 표본: 193명, 여성 표본: 193명\n",
            "남성 양성률: 0.6113989637305699\n",
            "여성 양성률: 0.25906735751295334\n",
            "\n",
            "20. 남성 표본: 193명, 여성 표본: 193명\n",
            "남성 양성률: 0.6683937823834197\n",
            "여성 양성률: 0.25906735751295334\n",
            "\n"
          ]
        }
      ]
    },
    {
      "cell_type": "code",
      "source": [],
      "metadata": {
        "id": "C_kRrAW0g_kK"
      },
      "execution_count": null,
      "outputs": []
    },
    {
      "cell_type": "code",
      "source": [
        "\n",
        "\n",
        "\n"
      ],
      "metadata": {
        "colab": {
          "base_uri": "https://localhost:8080/"
        },
        "id": "pTbG8FUh-EXB",
        "outputId": "3bd539c3-a73f-4414-d57c-8c9c98914325"
      },
      "execution_count": 45,
      "outputs": [
        {
          "output_type": "stream",
          "name": "stdout",
          "text": [
            "남성 표본: 193명, 여성 표본: 193명\n",
            "남성 양성 확률: 0.6373056994818653\n",
            "여성 양성 확률: 0.25906735751295334\n",
            "\n",
            "\n"
          ]
        }
      ]
    }
  ]
}